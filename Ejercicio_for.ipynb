{
  "nbformat": 4,
  "nbformat_minor": 0,
  "metadata": {
    "colab": {
      "provenance": [],
      "authorship_tag": "ABX9TyOoh02ncdsxLGnz9jJJJS5l",
      "include_colab_link": true
    },
    "kernelspec": {
      "name": "python3",
      "display_name": "Python 3"
    },
    "language_info": {
      "name": "python"
    }
  },
  "cells": [
    {
      "cell_type": "markdown",
      "metadata": {
        "id": "view-in-github",
        "colab_type": "text"
      },
      "source": [
        "<a href=\"https://colab.research.google.com/github/danielsierra26/ejercicio_for/blob/main/Ejercicio_for.ipynb\" target=\"_parent\"><img src=\"https://colab.research.google.com/assets/colab-badge.svg\" alt=\"Open In Colab\"/></a>"
      ]
    },
    {
      "cell_type": "markdown",
      "source": [
        "Instruciones Repetitivas\n"
      ],
      "metadata": {
        "id": "XsBRj9TxsHon"
      }
    },
    {
      "cell_type": "code",
      "execution_count": null,
      "metadata": {
        "id": "R_xJ5Le_r2HQ"
      },
      "outputs": [],
      "source": [
        "# EJERCICIO 1: mostrar los números del 1 al 10, sin usar  instruciones repetitivas\n",
        "\n",
        "print(1)\n",
        "print(2)\n",
        "print(3)\n",
        "print(4)\n",
        "print(5)\n",
        "print(6)\n",
        "print(7)\n",
        "print(8)\n",
        "print(9)\n",
        "print(10)"
      ]
    },
    {
      "cell_type": "code",
      "source": [
        " # EJERCICIO 2: mostrar los numeros del 1 al 10, usando las instruciones e while\n",
        "\n",
        "contador = 1\n",
        "print(contador)\n",
        "while contador <10:\n",
        "  # contador = contador + 1\n",
        "  contador += 1\n",
        "print(contador)"
      ],
      "metadata": {
        "id": "4t7LfKcQuDfx"
      },
      "execution_count": null,
      "outputs": []
    },
    {
      "cell_type": "code",
      "source": [
        " #  EJERCICIO 3: mostrar las numeros del 1 al 10, usando instrucion for y una lista como iterable\n",
        " lista = [1,2,3,4,5,6,7,8,9,10]\n",
        " for i in lista:\n",
        "   print(i)"
      ],
      "metadata": {
        "id": "Neq20F3PwUV5"
      },
      "execution_count": null,
      "outputs": []
    },
    {
      "cell_type": "code",
      "source": [
        "# EJERCICIO 4: mostrar los numeros del 1 al 10, usando la  instrucion for y la funcion range\n",
        "\n",
        "for i in range(1,11):\n",
        "  print(i)\n"
      ],
      "metadata": {
        "id": "KmqUlJ5wxbjn"
      },
      "execution_count": null,
      "outputs": []
    },
    {
      "cell_type": "code",
      "source": [
        "# EJERCICIO 5: mostrar una frase 10 veces, usando la intrucion for y una lista\n",
        "\n",
        "lista = [1,2,3,4,5,6,7,8,9,10]\n",
        "for i in lista:\n",
        "  print(f\"{i} Sistemas el mejor!!!\")"
      ],
      "metadata": {
        "id": "V31wtuaCya1x"
      },
      "execution_count": null,
      "outputs": []
    },
    {
      "cell_type": "code",
      "source": [
        "# EJERCICIO 6: mostrar la silaba inicial de los dias de la semana, usando for y una lista con la silabas de los dias\n",
        "días_semana = [\"lu\",\"ma\",\"mi\",\"ju\",\"vi\",\"sa\",\"do\"]\n",
        "for i in días_semana:\n",
        "  print(i)"
      ],
      "metadata": {
        "id": "S7OwC-udzOjn"
      },
      "execution_count": null,
      "outputs": []
    },
    {
      "cell_type": "code",
      "source": [
        "# EJECICIO 7: mostrar una lista de distintos tipos de datos, usando for\n",
        "\n",
        "lista = [1, 3.4, 9, True, \"Daniel\", 8, \"Guanenta\"]\n",
        "for i in lista:\n",
        "  print(i)\n",
        "  "
      ],
      "metadata": {
        "id": "Sxny36JF0jbq"
      },
      "execution_count": null,
      "outputs": []
    },
    {
      "cell_type": "code",
      "source": [
        "#EJERCICIO 8: ingresar su nombre y mostrarlo letra a letra, usando for\n",
        "nombre = input(\"Digite su nombre: \")\n",
        "for i in nombre:\n",
        "  print(letra)"
      ],
      "metadata": {
        "id": "R-wdZy5e1Xqe"
      },
      "execution_count": null,
      "outputs": []
    },
    {
      "cell_type": "code",
      "source": [
        "# EJERCICIO 9: igresar su nombre y mostrarlo letra a letra, usando for, cambiando por asteristicos * a la vocal\n",
        "nombre = input(\"Digite su nombre: \")\n",
        "for letra in nombre: \n",
        "  if letra == 'e':\n",
        "    print(\"*\")\n",
        "  else:\n",
        "    print(letra)"
      ],
      "metadata": {
        "id": "nRV8veC42db7"
      },
      "execution_count": null,
      "outputs": []
    },
    {
      "cell_type": "code",
      "source": [
        "# EJERCICIO 10: ingresar su nombre y mostrarlo letra a letra, en mayuscula, usando for\n",
        "\n",
        "nombre = input(\"Digite su nombre: \")\n",
        "for letra in nombre:\n",
        "  print(letra.upper())"
      ],
      "metadata": {
        "id": "89IvyKoTACA_"
      },
      "execution_count": null,
      "outputs": []
    },
    {
      "cell_type": "code",
      "source": [
        "from re import A\n",
        "# EJERCICIO 11: imprimir listas de numeros usando for y range\n",
        "\n",
        "print(\"Numeros del 0 al 9\")\n",
        "for i in range(10):\n",
        "  print(i)\n",
        "\n",
        "print(\"Numeros edl 1 al 10\")\n",
        "for i in range(1,11):\n",
        "  print(i)\n",
        "\n",
        "print(\"10 veces la frase\")\n",
        "for i in range(10):\n",
        "  print(\"Sistemas el mejor\")\n",
        "\n",
        "print(\"10 veces la frase i = \")\n",
        "for i in range(10):\n",
        "  print(\"i = \" + str(i))\n",
        "\n",
        "print(\"10 veces la frase i = \")\n",
        "for i in range(10):\n",
        "  print(f\" i = {i}\")\n",
        "\n",
        "print(\"Rango del 7 al 18, incremente de 4 en 4\")\n",
        "for i in range(7,19,4):\n",
        "  print(i)\n",
        "\n",
        "print(\"Convierte rango en lista a, y la mustra\")\n",
        "a = list(range(1000))\n",
        "print(a)\n"
      ],
      "metadata": {
        "id": "KDWuctngBPUE"
      },
      "execution_count": null,
      "outputs": []
    },
    {
      "cell_type": "markdown",
      "source": [
        "Ejercicios\n",
        "\n",
        "  1.Dada la siguinte lista de numeros,[20,21,30,31,50,51,201]mostrar en pantalla solo los que NO terminan en 1.\n",
        "  2.Mostrar 1000 veces la palabra \"Programacion\".\n",
        "  3.Del conjunnto de cadenas[\"E\",\"F\",\"M\",\"A\"]que corresponda a las iniciales de los primeros cuatro meses del año, mostrar el nombre completo de dichos mese."
      ],
      "metadata": {
        "id": "qcyz_UI-G4o_"
      }
    }
  ]
}